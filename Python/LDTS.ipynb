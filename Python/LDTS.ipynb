{
 "cells": [
  {
   "cell_type": "markdown",
   "id": "8fe19d70",
   "metadata": {},
   "source": [
    "# LDTS (List Dictionary Tupels Sets)"
   ]
  },
  {
   "cell_type": "code",
   "execution_count": null,
   "id": "1f01b465",
   "metadata": {},
   "outputs": [],
   "source": [
    "# LDTS are the main DATA STRUCTURES\n",
    "# Data Structure -> any thing that hold objects in organised manner"
   ]
  },
  {
   "cell_type": "markdown",
   "id": "ae21a7b8",
   "metadata": {},
   "source": [
    "##     List\n",
    "#####                List is an ordered sequence of objects\n",
    "#####                It can hold any type of types\n",
    "#####                It is denoted by Square braces \"[]\"\n",
    "#####                Because it is ordered collection, it has serial number called index.\n",
    "#####                               this index is used to access list elements\n",
    "#####                               index always starts from '0'"
   ]
  },
  {
   "cell_type": "code",
   "execution_count": 121,
   "id": "b687a080",
   "metadata": {},
   "outputs": [],
   "source": [
    "lstn = [1,2,3,4,5]                    # list only having numbers\n",
    "lsts = ['a','b','c','d','e']          # list only having strings\n",
    "lstm = [1,2,'a',3,'b','c',4,'d',5]    # list having mixed data types (numbers & strings)\n",
    "lstml = [6,'x',lstn]                  # list having mixed datatypes (numbers & strings & list)"
   ]
  },
  {
   "cell_type": "code",
   "execution_count": 2,
   "id": "34a90d6f",
   "metadata": {},
   "outputs": [],
   "source": [
    "# list can hold any type of object mentioned in python"
   ]
  },
  {
   "cell_type": "code",
   "execution_count": 5,
   "id": "15f9c3b0",
   "metadata": {},
   "outputs": [
    {
     "name": "stdout",
     "output_type": "stream",
     "text": [
      "\t lstn =  [1, 2, 3, 4, 5]\n",
      "\t lsts =  ['a', 'b', 'c', 'd', 'e']\n",
      "\t lstm =  [1, 2, 'a', 3, 'b', 'c', 4, 'd', 5]\n",
      "\t lstml =  [6, 'x', [1, 2, 3, 4, 5]]\n"
     ]
    }
   ],
   "source": [
    "print(\"\\t lstn = \", lstn)\n",
    "print(\"\\t lsts = \", lsts)\n",
    "print(\"\\t lstm = \", lstm)\n",
    "print(\"\\t lstml = \", lstml)"
   ]
  },
  {
   "cell_type": "markdown",
   "id": "2dd5688f",
   "metadata": {},
   "source": [
    "##      Dictionary \n",
    "#####                  It is an un-ordered KEY-VALUE pair collection, where value can be of any objects\n",
    "#####                  It can hold any type of types\n",
    "#####                  It is denoted by Curly braces \"{ Key: Value }\"\n",
    "#####                  Because it is an un-ordered it does not haave any sequence/index\n",
    "#####                                 its elements are accesessed using 'key'\n",
    "#####                  dict(key = value) ------ way to declare dictionary"
   ]
  },
  {
   "cell_type": "code",
   "execution_count": 55,
   "id": "22244fae",
   "metadata": {},
   "outputs": [],
   "source": [
    "dict1 = dict(name = \"abc\")          #  another way to declare, accepts only key as string type"
   ]
  },
  {
   "cell_type": "code",
   "execution_count": 56,
   "id": "25de86e3",
   "metadata": {},
   "outputs": [],
   "source": [
    "dict2 = {\n",
    "    'a' : 1,\n",
    "    'b' : 'xyz',\n",
    "    'c' : False,         \n",
    "    'd' : [1,2,3]\n",
    "}"
   ]
  },
  {
   "cell_type": "code",
   "execution_count": 58,
   "id": "77b78455",
   "metadata": {},
   "outputs": [
    {
     "name": "stdout",
     "output_type": "stream",
     "text": [
      "\t dict2              =  {'a': 1, 'b': 'xyz', 'c': False, 'd': [1, 2, 3]}\n",
      "\t dict2[key]         =  xyz\n",
      "\t dict2[key][list-i] =  3\n"
     ]
    }
   ],
   "source": [
    "# Accessing dictionary\n",
    "print(\"\\t dict2              = \", dict2)\n",
    "print(\"\\t dict2[key]         = \", dict2['b'])\n",
    "print(\"\\t dict2[key][list-i] = \", dict2['d'][2])"
   ]
  },
  {
   "cell_type": "markdown",
   "id": "e5140936",
   "metadata": {},
   "source": [
    "#####                    KEY  type but should be 'IMMUTABLE'                   i.e.  Keys can be of only [number, string, boolean]"
   ]
  },
  {
   "cell_type": "code",
   "execution_count": 80,
   "id": "05ebba27",
   "metadata": {},
   "outputs": [],
   "source": [
    "dict3 = {\n",
    "    1 : 'key is of number',\n",
    "    'a' : 'key is of string',\n",
    "    True : 'key is of boolean \"True\"-1',\n",
    "    True : 'key is of boolean \"True\"-2',\n",
    "}"
   ]
  },
  {
   "cell_type": "code",
   "execution_count": 99,
   "id": "c591dbd6",
   "metadata": {},
   "outputs": [
    {
     "ename": "TypeError",
     "evalue": "unhashable type: 'list'",
     "output_type": "error",
     "traceback": [
      "\u001b[1;31m---------------------------------------------------------------------------\u001b[0m",
      "\u001b[1;31mTypeError\u001b[0m                                 Traceback (most recent call last)",
      "\u001b[1;32m<ipython-input-99-64861ebaa87e>\u001b[0m in \u001b[0;36m<module>\u001b[1;34m\u001b[0m\n\u001b[1;32m----> 1\u001b[1;33m dict_listKey = {\n\u001b[0m\u001b[0;32m      2\u001b[0m     \u001b[1;33m[\u001b[0m\u001b[1;36m1\u001b[0m\u001b[1;33m,\u001b[0m\u001b[1;36m2\u001b[0m\u001b[1;33m,\u001b[0m\u001b[1;36m3\u001b[0m\u001b[1;33m]\u001b[0m \u001b[1;33m:\u001b[0m \u001b[1;34m\"key cannot be list because it is of mutable data type\"\u001b[0m\u001b[1;33m\u001b[0m\u001b[1;33m\u001b[0m\u001b[0m\n\u001b[0;32m      3\u001b[0m }\n",
      "\u001b[1;31mTypeError\u001b[0m: unhashable type: 'list'"
     ]
    }
   ],
   "source": [
    "dict_listKey = {\n",
    "    [1,2,3] : \"key cannot be list because it is of mutable data type\"\n",
    "}"
   ]
  },
  {
   "cell_type": "markdown",
   "id": "50416577",
   "metadata": {},
   "source": [
    "#####       Prefer : Dictionary should not have duplicate key                (returned result value will be from the last found key)\n",
    "\n",
    "###       1 == True       dictionary key will treat them as same       (returns last found key value)"
   ]
  },
  {
   "cell_type": "code",
   "execution_count": 70,
   "id": "7e1d3b91",
   "metadata": {},
   "outputs": [
    {
     "name": "stdout",
     "output_type": "stream",
     "text": [
      "\t dict3[1] =  key is of boolean \"True\"-2\n",
      "\t dict3[True] =  key is of boolean \"True\"-2\n"
     ]
    }
   ],
   "source": [
    "print(\"\\t dict3[1] = \", dict3[1])\n",
    "print(\"\\t dict3[True] = \", dict3[True])"
   ]
  },
  {
   "cell_type": "code",
   "execution_count": null,
   "id": "4ec8d014",
   "metadata": {},
   "outputs": [],
   "source": []
  },
  {
   "cell_type": "markdown",
   "id": "80406d23",
   "metadata": {},
   "source": [
    "###   Dictionary some useful methods"
   ]
  },
  {
   "cell_type": "markdown",
   "id": "ed27841f",
   "metadata": {},
   "source": [
    "#####            .get(key, default_value)         [returns     none/default_value]                       (useful to avoid key error)"
   ]
  },
  {
   "cell_type": "code",
   "execution_count": 47,
   "id": "273d9e19",
   "metadata": {},
   "outputs": [
    {
     "name": "stdout",
     "output_type": "stream",
     "text": [
      "\t dict2[False] =  None\n",
      "\t dict2[False] =  XYZ with default value = XYZ\n"
     ]
    }
   ],
   "source": [
    "print(\"\\t dict2[False] = \", dict2.get(False))\n",
    "print(\"\\t dict2[False] = \", dict2.get(False,'XYZ') , \"with default value = XYZ\")"
   ]
  },
  {
   "cell_type": "code",
   "execution_count": 46,
   "id": "084f9234",
   "metadata": {},
   "outputs": [
    {
     "ename": "KeyError",
     "evalue": "False",
     "output_type": "error",
     "traceback": [
      "\u001b[1;31m---------------------------------------------------------------------------\u001b[0m",
      "\u001b[1;31mKeyError\u001b[0m                                  Traceback (most recent call last)",
      "\u001b[1;32m<ipython-input-46-3379592061ee>\u001b[0m in \u001b[0;36m<module>\u001b[1;34m\u001b[0m\n\u001b[1;32m----> 1\u001b[1;33m \u001b[0mprint\u001b[0m\u001b[1;33m(\u001b[0m\u001b[1;34m\"\\t dict2[False] = \"\u001b[0m\u001b[1;33m,\u001b[0m \u001b[0mdict2\u001b[0m\u001b[1;33m[\u001b[0m\u001b[1;32mFalse\u001b[0m\u001b[1;33m]\u001b[0m\u001b[1;33m)\u001b[0m\u001b[1;33m\u001b[0m\u001b[1;33m\u001b[0m\u001b[0m\n\u001b[0m",
      "\u001b[1;31mKeyError\u001b[0m: False"
     ]
    }
   ],
   "source": [
    "print(\"\\t dict2[False] = \", dict2[False])"
   ]
  },
  {
   "cell_type": "markdown",
   "id": "db623bc8",
   "metadata": {},
   "source": [
    "#####             .keys()                            [returns list                        all keys]                                          (useful to loop)\n",
    "#####             .values()                         [returns list                        all values]                                       (useful to loop)\n",
    "#####             .items()                           [returns list of tuples        all (key:value) pair]                        (useful to loop)"
   ]
  },
  {
   "cell_type": "code",
   "execution_count": 65,
   "id": "6c27fa53",
   "metadata": {},
   "outputs": [
    {
     "name": "stdout",
     "output_type": "stream",
     "text": [
      "\t dict2.keys()   =  dict_keys(['a', 'b', 'c', 'd'])\n",
      "\t dict2.values() =  dict_values([1, 'xyz', False, [1, 2, 3]])\n",
      "\t dict2.items() =  dict_items([('a', 1), ('b', 'xyz'), ('c', False), ('d', [1, 2, 3])])\n"
     ]
    }
   ],
   "source": [
    "print(\"\\t dict2.keys()   = \", dict2.keys())\n",
    "print(\"\\t dict2.values() = \", dict2.values())\n",
    "print(\"\\t dict2.items() = \", dict2.items())"
   ]
  },
  {
   "cell_type": "markdown",
   "id": "b5796738",
   "metadata": {},
   "source": [
    "#####              .copy()                           [returns            new dictionary]\n",
    "#####              .clear()                           [returns            none]"
   ]
  },
  {
   "cell_type": "markdown",
   "id": "1ba3e27f",
   "metadata": {},
   "source": [
    "#####              .pop(key)                       removes key elements                [ returns corresponding  removed value]\n",
    "#####              .popitem()                     removes ANY elements               [ returns corresponding  (key: value) as tuple]              prefer : don't use"
   ]
  },
  {
   "cell_type": "markdown",
   "id": "70d147f8",
   "metadata": {},
   "source": [
    "#####              .update(update with new dictionary)                               [ returns updated dictionary with new passed dictionary]"
   ]
  },
  {
   "cell_type": "code",
   "execution_count": 66,
   "id": "c2461792",
   "metadata": {},
   "outputs": [],
   "source": [
    "dict2.update(dict3)"
   ]
  },
  {
   "cell_type": "code",
   "execution_count": 82,
   "id": "c828c9ab",
   "metadata": {},
   "outputs": [
    {
     "name": "stdout",
     "output_type": "stream",
     "text": [
      "\t dict3.items() =  {1: 'key is of boolean \"True\"-2', 'a': 'key is of string'}\n"
     ]
    }
   ],
   "source": [
    "# ----------- dict3 has keys (1, 'a', True, True)\n",
    "# ------------------ 1 == True\n",
    "# ------------------ so there would be one key with last found value\n",
    "\n",
    "print(\"\\t dict3.items() = \", dict3)"
   ]
  },
  {
   "cell_type": "code",
   "execution_count": 83,
   "id": "84e2358e",
   "metadata": {},
   "outputs": [
    {
     "name": "stdout",
     "output_type": "stream",
     "text": [
      "\t dict2.items() =  {'a': 'key is of string', 'b': 'xyz', 'c': False, 'd': [1, 2, 3], 1: 'key is of boolean \"True\"-2'}\n"
     ]
    }
   ],
   "source": [
    "# if keys get matched then root dictionary will gets updated\n",
    "# if keys not matched then adding dictionary will be added to root dictionary \n",
    "\n",
    "print(\"\\t dict2.items() = \", dict2)"
   ]
  },
  {
   "cell_type": "markdown",
   "id": "2f2b93e3",
   "metadata": {},
   "source": [
    "#   Tuples\n",
    "#####                 It is like list\n",
    "#####                                    but unlike list it cannot be changed once assigned/defined  (IMMUTABLE data type)\n",
    "#####                                                                                                 i.e.   it is read only\n",
    "#####                It is denoted by curved braces \"()\"\n",
    "#####                Faster than list\n",
    "#####                Has only two inbuild methods                             1. count(element)      2. index(elment) "
   ]
  },
  {
   "cell_type": "code",
   "execution_count": 113,
   "id": "2f63a1c2",
   "metadata": {},
   "outputs": [],
   "source": [
    "tuple1 = (1,2,3,4,3,2,5,7,2)"
   ]
  },
  {
   "cell_type": "code",
   "execution_count": 114,
   "id": "c3836462",
   "metadata": {},
   "outputs": [
    {
     "name": "stdout",
     "output_type": "stream",
     "text": [
      "\t tuple1 =  (1, 2, 3, 4, 3, 2, 5, 7, 2)\n",
      "\t tuple1[2] =  3\n"
     ]
    }
   ],
   "source": [
    "print(\"\\t tuple1 = \", tuple1)\n",
    "print(\"\\t tuple1[2] = \", tuple1[2])"
   ]
  },
  {
   "cell_type": "code",
   "execution_count": 115,
   "id": "00af0e77",
   "metadata": {},
   "outputs": [
    {
     "name": "stdout",
     "output_type": "stream",
     "text": [
      "\t tuple1[0:2] =  (1, 2)\n",
      "\t tuple1[0:1] =  (1,)\n"
     ]
    }
   ],
   "source": [
    "# tuple detnotes more than one elements\n",
    "\n",
    "print(\"\\t tuple1[0:2] = \", tuple1[0:2])\n",
    "print(\"\\t tuple1[0:1] = \", tuple2[0:1])             # so with single elemet still has one comma"
   ]
  },
  {
   "cell_type": "code",
   "execution_count": 117,
   "id": "c452896a",
   "metadata": {},
   "outputs": [
    {
     "name": "stdout",
     "output_type": "stream",
     "text": [
      "\t tuple1.count(2) =  3\n",
      "\t tuple1.index(2) =  1\n"
     ]
    }
   ],
   "source": [
    "print(\"\\t tuple1.count(2) = \", tuple1.count(2))\n",
    "print(\"\\t tuple1.index(2) = \", tuple1.index(2))"
   ]
  },
  {
   "cell_type": "markdown",
   "id": "a289997f",
   "metadata": {},
   "source": [
    "#####                   Remember we cannot use list as dictionary key, rather we can use tuples : because of immutable property"
   ]
  },
  {
   "cell_type": "code",
   "execution_count": 107,
   "id": "a5dd126a",
   "metadata": {},
   "outputs": [
    {
     "name": "stdout",
     "output_type": "stream",
     "text": [
      "\t dict_tupleKey =  key cannot be list, but can be Tuple as it is an immutable data type\n"
     ]
    }
   ],
   "source": [
    "dict_tupleKey = {\n",
    "    (1,2,3) : \"key cannot be list, but can be Tuple as it is an immutable data type\"\n",
    "}\n",
    "\n",
    "print(\"\\t dict_tupleKey = \", dict_tupleKey[(1,2,3)])"
   ]
  },
  {
   "cell_type": "markdown",
   "id": "51003060",
   "metadata": {},
   "source": [
    "#   Sets\n",
    "#####                It is an unordered collection of  only UNIQUE objects\n",
    "#####                It is denoted by curly braces \"{}\"\n",
    "#####                ---- It is more likely as dictionary but only with keys "
   ]
  },
  {
   "cell_type": "code",
   "execution_count": 145,
   "id": "6ed0c463",
   "metadata": {},
   "outputs": [],
   "source": [
    "set1 = {1,2,3,4,3,2,5,7,2}"
   ]
  },
  {
   "cell_type": "code",
   "execution_count": 146,
   "id": "432a5301",
   "metadata": {},
   "outputs": [
    {
     "name": "stdout",
     "output_type": "stream",
     "text": [
      "\t set1 =  {1, 2, 3, 4, 5, 7}\n"
     ]
    }
   ],
   "source": [
    "print(\"\\t set1 = \", set1)"
   ]
  },
  {
   "cell_type": "code",
   "execution_count": 147,
   "id": "56252cc5",
   "metadata": {},
   "outputs": [],
   "source": [
    "set1.add(6)\n",
    "set1.add(3)\n",
    "set1.add(6)                # adding an element will auto sort the list\n",
    "set1.add(3)"
   ]
  },
  {
   "cell_type": "code",
   "execution_count": 148,
   "id": "5a8eeca0",
   "metadata": {},
   "outputs": [
    {
     "name": "stdout",
     "output_type": "stream",
     "text": [
      "\t set1 after adding 6 & 2(even after multiple times) =  {1, 2, 3, 4, 5, 6, 7}\n"
     ]
    }
   ],
   "source": [
    "print(\"\\t set1 after adding 6 & 2(even after multiple times) = \", set1)"
   ]
  },
  {
   "cell_type": "markdown",
   "id": "e7c7e9b4",
   "metadata": {},
   "source": [
    "##### we cannot access by index, instead we need to check element if exists IN the sets\n",
    "\n",
    "##    'in'\n",
    "#####     this 'in' is used to find if the element exists in collection (collection means any type of grouped elements)"
   ]
  },
  {
   "cell_type": "code",
   "execution_count": 154,
   "id": "c1dc887c",
   "metadata": {},
   "outputs": [
    {
     "name": "stdout",
     "output_type": "stream",
     "text": [
      "\t find 2 exists in set1 =  True\n"
     ]
    }
   ],
   "source": [
    "print(\"\\t find 2 exists in set1 = \", 2 in set1)"
   ]
  },
  {
   "cell_type": "code",
   "execution_count": 155,
   "id": "189ab145",
   "metadata": {},
   "outputs": [
    {
     "name": "stdout",
     "output_type": "stream",
     "text": [
      "[1, 2, 3, 4, 5, 4]\n",
      "None\n",
      "[]\n"
     ]
    }
   ],
   "source": [
    " "
   ]
  },
  {
   "cell_type": "code",
   "execution_count": null,
   "id": "e07e654b",
   "metadata": {},
   "outputs": [],
   "source": []
  }
 ],
 "metadata": {
  "kernelspec": {
   "display_name": "Python 3",
   "language": "python",
   "name": "python3"
  },
  "language_info": {
   "codemirror_mode": {
    "name": "ipython",
    "version": 3
   },
   "file_extension": ".py",
   "mimetype": "text/x-python",
   "name": "python",
   "nbconvert_exporter": "python",
   "pygments_lexer": "ipython3",
   "version": "3.9.5"
  }
 },
 "nbformat": 4,
 "nbformat_minor": 5
}
